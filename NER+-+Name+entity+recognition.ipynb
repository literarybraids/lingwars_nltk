{
 "cells": [
  {
   "cell_type": "markdown",
   "metadata": {},
   "source": [
    "# Name entity recognition"
   ]
  },
  {
   "cell_type": "code",
   "execution_count": 33,
   "metadata": {
    "collapsed": false
   },
   "outputs": [
    {
     "name": "stdout",
     "output_type": "stream",
     "text": [
      "Python version 3.5.2\n",
      "NLTK version 3.1\n"
     ]
    }
   ],
   "source": [
    "from platform import python_version\n",
    "import nltk\n",
    "import os\n",
    "\n",
    "print(\"Python version {}\".format(python_version()))\n",
    "print(\"NLTK version {}\".format(nltk.__version__))\n",
    "\n",
    "from IPython.display import HTML, display"
   ]
  },
  {
   "cell_type": "code",
   "execution_count": 49,
   "metadata": {
    "collapsed": false,
    "scrolled": true
   },
   "outputs": [
    {
     "data": {
      "text/html": [
       "<strong>Data available:</strong>"
      ],
      "text/plain": [
       "<IPython.core.display.HTML object>"
      ]
     },
     "metadata": {},
     "output_type": "display_data"
    },
    {
     "data": {
      "text/html": [
       "<table><tr><td>Dracula</td><td>data/corpus_misc/en/literature/Dracula.txt</td></tr><tr><td>A Tale of Two Cities</td><td>data/corpus_misc/en/literature/A Tale of Two Cities.txt</td></tr></table>"
      ],
      "text/plain": [
       "<IPython.core.display.HTML object>"
      ]
     },
     "metadata": {},
     "output_type": "display_data"
    }
   ],
   "source": [
    "data = []\n",
    "\n",
    "def read_lines(filename, start=0, end=None):\n",
    "    basename = os.path.basename(filename)\n",
    "    data.append((os.path.splitext(basename)[0], filename))\n",
    "\n",
    "    with open(filename, \"r\") as f:\n",
    "        return ''.join(f.readlines()[start:end])\n",
    "\n",
    "    \n",
    "Dracula = read_lines(\"data/corpus_misc/en/literature/Dracula.txt\", 200, 500)\n",
    "ATaleOfTwoCities = read_lines(\"data/corpus_misc/en/literature/A Tale of Two Cities.txt\", 200, 500)\n",
    "\n",
    "display(HTML('<strong>Data available:</strong>'))\n",
    "display(HTML(   \n",
    "    '<table><tr>{}</tr></table>'.format(\n",
    "        '</tr><tr>'.join(\n",
    "            '<td>{}</td>'.format('</td><td>'.join(str(_) for _ in row)) for row in data)\n",
    "        )\n",
    " ))"
   ]
  },
  {
   "cell_type": "code",
   "execution_count": 50,
   "metadata": {
    "collapsed": false
   },
   "outputs": [
    {
     "name": "stdout",
     "output_type": "stream",
     "text": [
      " _3 May. Bistritz._--Left Munich at 8:35 P. M., on 1st May, arriving at Vienna early next morning; should have arrived at 6:46, but train was an hour late. Buda-Pesth seems a wonderful place, from the glimpse which I got of it from the train and the little I could walk through the streets. I feared to go very far from the station, as we had arrived late and would start as near the correct time as \n"
     ]
    }
   ],
   "source": [
    "sample = Dracula\n",
    "sample = sample.replace('\\n', ' ')\n",
    "print(sample[:400])"
   ]
  },
  {
   "cell_type": "code",
   "execution_count": 51,
   "metadata": {
    "collapsed": false
   },
   "outputs": [],
   "source": [
    "sentences = nltk.sent_tokenize(sample)\n",
    "tokenized_sentences = [nltk.word_tokenize(sentence) for sentence in sentences]\n",
    "tagged_sentences = [nltk.pos_tag(sentence) for sentence in tokenized_sentences]\n",
    "chunked_sentences = nltk.ne_chunk_sents(tagged_sentences, binary=True)"
   ]
  },
  {
   "cell_type": "code",
   "execution_count": 43,
   "metadata": {
    "collapsed": false
   },
   "outputs": [],
   "source": [
    "#for s in sentences:\n",
    "#    print(s)\n",
    "#    print(\"*\"*20)"
   ]
  },
  {
   "cell_type": "code",
   "execution_count": 44,
   "metadata": {
    "collapsed": false
   },
   "outputs": [],
   "source": [
    "def extract_entity_names(t):\n",
    "    _entity_names = []\n",
    "    \n",
    "    if hasattr(t, 'label') and t.label():\n",
    "        if t.label() == 'NE':\n",
    "            _entity_names.append(' '.join([child[0] for child in t]))\n",
    "        else:\n",
    "            for child in t:\n",
    "                _entity_names.extend(extract_entity_names(child))\n",
    "                \n",
    "    return _entity_names\n",
    "\n",
    "entity_names = []\n",
    "for tree in chunked_sentences:\n",
    "    # Print results per sentence\n",
    "    # print extract_entity_names(tree)\n",
    "    \n",
    "    entity_names.extend(extract_entity_names(tree))\n",
    "\n",
    "entity_names = set(entity_names)"
   ]
  },
  {
   "cell_type": "code",
   "execution_count": 45,
   "metadata": {
    "collapsed": false
   },
   "outputs": [
    {
     "name": "stdout",
     "output_type": "stream",
     "text": [
      "{'East', 'Isten', 'West', 'China', 'Mina', 'Count', 'North', 'Transylvania', 'English Churchman', 'English Herr', 'Dacians', 'France', 'Turk', 'Borgo Prund', 'Herr', 'German', 'Burger', 'Slovaks', 'Jonathan Harker', 'Todten', 'Cszeks', 'Herr Englishman', 'London', 'Count Dracula', 'Borgo Pass', 'Hospadars', 'Carpathian', 'South', 'Moldavia', 'Danube', 'British Museum', 'Vienna', 'English', 'DRACULA', 'Wallachs', 'Hotel Royale', 'Szekelys', '_3 May', 'Bistritz', 'Huns', 'Pass', 'Klausenburgh', 'Turkish', 'Mittel Land', 'Attila', 'Magyars', 'Slovak', 'Bukovina', 'Europe', 'Golden Krone Hotel', 'Munich', 'Golden Mediasch', 'Germany', 'St. George', 'Oriental', 'Castle Dracula', 'Servian'}\n"
     ]
    }
   ],
   "source": [
    "print(entity_names)"
   ]
  },
  {
   "cell_type": "code",
   "execution_count": null,
   "metadata": {
    "collapsed": true
   },
   "outputs": [],
   "source": []
  }
 ],
 "metadata": {
  "kernelspec": {
   "display_name": "Python 3",
   "language": "python",
   "name": "python3"
  },
  "language_info": {
   "codemirror_mode": {
    "name": "ipython",
    "version": 3
   },
   "file_extension": ".py",
   "mimetype": "text/x-python",
   "name": "python",
   "nbconvert_exporter": "python",
   "pygments_lexer": "ipython3",
   "version": "3.6.0"
  }
 },
 "nbformat": 4,
 "nbformat_minor": 2
}
